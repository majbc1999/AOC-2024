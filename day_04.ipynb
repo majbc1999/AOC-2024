{
 "cells": [
  {
   "cell_type": "code",
   "execution_count": 2,
   "metadata": {},
   "outputs": [],
   "source": [
    "#file = 'data/04_input.txt'\n",
    "file = 'data/04_test_input.txt'\n",
    "\n",
    "with open(file, 'r') as inp:\n",
    "    data = inp.read().splitlines()\n"
   ]
  },
  {
   "cell_type": "code",
   "execution_count": 3,
   "metadata": {},
   "outputs": [],
   "source": [
    "normal_matrix = [\n",
    "    list(x) for x in data\n",
    "]\n",
    "\n",
    "forward = data\n",
    "\n",
    "vertically_forward = [\n",
    "    ''.join(x) for x in zip(*normal_matrix)\n",
    "]\n",
    "\n",
    "n = len(normal_matrix) - 1\n",
    "\n",
    "diagonally_forward_1 = []\n",
    "help_f1 = []\n",
    "\n",
    "for i in range(n + 1):\n",
    "    diagonally_forward_1.append(\n",
    "        ''.join([normal_matrix[n+j-i][j] for j in range(i+1)])\n",
    "    )\n",
    "    if i != n:\n",
    "        help_f1.append(\n",
    "            ''.join([normal_matrix[j][n+j-i] for j in range(i+1)])\n",
    "        )\n",
    "diagonally_forward_1 += reversed(help_f1)\n",
    "\n",
    "diagonally_forward_2 = []\n",
    "help_f2 = []\n",
    "\n",
    "for i in range(n + 1):\n",
    "    diagonally_forward_2.append(\n",
    "        ''.join([normal_matrix[j][i-j] for j in range(i+1)])\n",
    "    )\n",
    "    if i != n:\n",
    "        help_f2.append(\n",
    "            ''.join([normal_matrix[n-j][n-i+j] for j in range(i+1)])\n",
    "        )\n",
    "\n",
    "diagonally_forward_2 += reversed(help_f2)"
   ]
  },
  {
   "cell_type": "code",
   "execution_count": 4,
   "metadata": {},
   "outputs": [
    {
     "data": {
      "text/plain": [
       "18"
      ]
     },
     "execution_count": 4,
     "metadata": {},
     "output_type": "execute_result"
    }
   ],
   "source": [
    "all_options = forward + vertically_forward + diagonally_forward_1 + diagonally_forward_2\n",
    "\n",
    "all_count = 0\n",
    "\n",
    "for i in all_options:\n",
    "    substring = 'XMAS'\n",
    "\n",
    "    count_substring = i.count(substring)\n",
    "    all_count += count_substring\n",
    "\n",
    "    count_back = i.count(substring[::-1])\n",
    "    all_count += count_back\n",
    "\n",
    "all_count"
   ]
  },
  {
   "cell_type": "code",
   "execution_count": 5,
   "metadata": {},
   "outputs": [
    {
     "data": {
      "text/plain": [
       "['M',\n",
       " 'MM',\n",
       " 'ASM',\n",
       " 'MMAS',\n",
       " 'XSXMX',\n",
       " 'XMASXX',\n",
       " 'SXAMXMM',\n",
       " 'SMASAMSA',\n",
       " 'MASMASAMS',\n",
       " 'MAXMMMMASM',\n",
       " 'XMASXXSMA',\n",
       " 'MMMAXAMM',\n",
       " 'XMASAMX',\n",
       " 'AXSXMM',\n",
       " 'XMASA',\n",
       " 'MMAS',\n",
       " 'AMA',\n",
       " 'SM',\n",
       " 'X']"
      ]
     },
     "execution_count": 5,
     "metadata": {},
     "output_type": "execute_result"
    }
   ],
   "source": [
    "reversed_diag2 = [i[::-1] if id < n+1 else i for id, i in enumerate(diagonally_forward_2)]\n",
    "\n",
    "reversed_diag2"
   ]
  },
  {
   "cell_type": "code",
   "execution_count": 13,
   "metadata": {},
   "outputs": [
    {
     "data": {
      "text/plain": [
       "9"
      ]
     },
     "execution_count": 13,
     "metadata": {},
     "output_type": "execute_result"
    }
   ],
   "source": [
    "number_of_xes = 0\n",
    "\n",
    "for diag_id, diag1 in enumerate(diagonally_forward_1):\n",
    "    indices = [i for i in range(len(diag1)) if diag1.startswith('MAS', i) or diag1.startswith('SAM', i)]\n",
    "\n",
    "    if len(indices) > 0:\n",
    "        for j in indices:\n",
    "            try:\n",
    "                if diag_id <= n:\n",
    "                    diag = reversed_diag2[n - diag_id + 2 * (j + 1)]\n",
    "\n",
    "                    if j + 2 <= len(diag1) / 2:\n",
    "                        substr = diag[j:j+3]\n",
    "\n",
    "                    else:\n",
    "                        substr = diag[len(diag1) - j - 3:len(diag1) - j]\n",
    "                else:\n",
    "                    diag = reversed_diag2[diag_id - n + 2 * (j + 1)]\n",
    "\n",
    "                    if j + 2 <= len(diag1) / 2:\n",
    "                        substr = diag[len(diag) - j - 3:len(diag) - j]\n",
    "                    else:\n",
    "                        substr = diag[len(diag) - j - 3:len(diag) - j]\n",
    "\n",
    "                if len(substr) == 3:\n",
    "                    if substr == 'SAM' or substr == 'MAS':\n",
    "                        number_of_xes += 1\n",
    "                    else:\n",
    "                        continue  \n",
    "                else:\n",
    "                    continue\n",
    "            except IndexError:\n",
    "                continue\n",
    "\n",
    "number_of_xes"
   ]
  },
  {
   "cell_type": "code",
   "execution_count": null,
   "metadata": {},
   "outputs": [],
   "source": []
  }
 ],
 "metadata": {
  "kernelspec": {
   "display_name": "venv_aoc",
   "language": "python",
   "name": "python3"
  },
  "language_info": {
   "codemirror_mode": {
    "name": "ipython",
    "version": 3
   },
   "file_extension": ".py",
   "mimetype": "text/x-python",
   "name": "python",
   "nbconvert_exporter": "python",
   "pygments_lexer": "ipython3",
   "version": "3.13.0"
  }
 },
 "nbformat": 4,
 "nbformat_minor": 2
}
