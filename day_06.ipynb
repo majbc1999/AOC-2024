{
 "cells": [
  {
   "cell_type": "code",
   "execution_count": 1,
   "metadata": {},
   "outputs": [],
   "source": [
    "# file = 'data/06_test_input.txt'\n",
    "\n",
    "file = 'data/06_input.txt'\n",
    "\n",
    "map = []\n",
    "\n",
    "with open(file, 'r') as inp:\n",
    "    data = inp.read().splitlines()\n",
    "\n",
    "for line in data:\n",
    "    aux_map = []\n",
    "\n",
    "    for char in line:\n",
    "        aux_map.append(char)\n",
    "\n",
    "    map.append(aux_map)"
   ]
  },
  {
   "cell_type": "code",
   "execution_count": 2,
   "metadata": {},
   "outputs": [
    {
     "name": "stdout",
     "output_type": "stream",
     "text": [
      "(58, 80)\n",
      "up\n"
     ]
    }
   ],
   "source": [
    "guard_position = ()\n",
    "\n",
    "for id_, line in enumerate(map):\n",
    "    for id2, char in enumerate(line):\n",
    "        if char == '^':\n",
    "            guard_position = (id_, id2)\n",
    "            direction = 'up'\n",
    "            break\n",
    "        elif char == 'v':\n",
    "            guard_position = (id_, id2)\n",
    "            direction = 'down'\n",
    "            break\n",
    "        elif char == '<':\n",
    "            guard_position = (id_, id2)\n",
    "            direction = 'left'\n",
    "            break\n",
    "        elif char == '>':\n",
    "            guard_position = (id_, id2)\n",
    "            direction = 'right'\n",
    "            break\n",
    "        \n",
    "map[guard_position[0]][guard_position[1]] = '.'\n",
    "\n",
    "print(guard_position)\n",
    "print(direction)"
   ]
  },
  {
   "cell_type": "code",
   "execution_count": 3,
   "metadata": {},
   "outputs": [
    {
     "name": "stdout",
     "output_type": "stream",
     "text": [
      "end of the map\n"
     ]
    },
    {
     "data": {
      "text/plain": [
       "4890"
      ]
     },
     "execution_count": 3,
     "metadata": {},
     "output_type": "execute_result"
    }
   ],
   "source": [
    "direction_next = {\n",
    "    'up': 'right',\n",
    "    'right': 'down',\n",
    "    'down': 'left',\n",
    "    'left': 'up'\n",
    "}\n",
    "\n",
    "def move(x, y, direction, map):\n",
    "    if direction == 'up':\n",
    "        if x == 0:\n",
    "            raise IndexError('end of the map')\n",
    "        x_ = x - 1\n",
    "        y_ = y\n",
    "    elif direction == 'down':\n",
    "        x_ = x + 1\n",
    "        y_ = y\n",
    "    elif direction == 'left':\n",
    "        if y == 0:\n",
    "            raise IndexError('end of the map')\n",
    "        x_ = x\n",
    "        y_ = y - 1\n",
    "    elif direction == 'right':\n",
    "        x_ = x\n",
    "        y_ = y + 1\n",
    "\n",
    "    if map[x_][y_] != '#':\n",
    "        return x_, y_, direction\n",
    "\n",
    "    else:\n",
    "        return x, y, direction_next[direction]\n",
    "\n",
    "guard_x = guard_position[0]\n",
    "guard_y = guard_position[1]\n",
    "direction_ = direction\n",
    "\n",
    "visited_coordinates = [(guard_x, guard_y)]\n",
    "\n",
    "try:\n",
    "    while True:\n",
    "        guard_x, guard_y, direction_ = move(guard_x, guard_y, direction_, map)\n",
    "\n",
    "        if (guard_x, guard_y) not in visited_coordinates:\n",
    "            visited_coordinates.append((guard_x, guard_y))\n",
    "\n",
    "except IndexError:\n",
    "    print('end of the map')\n",
    "\n",
    "len(visited_coordinates)"
   ]
  },
  {
   "cell_type": "code",
   "execution_count": 4,
   "metadata": {},
   "outputs": [
    {
     "name": "stdout",
     "output_type": "stream",
     "text": [
      "1995shed 100.0%\n",
      "1995\n"
     ]
    }
   ],
   "source": [
    "from copy import deepcopy\n",
    "\n",
    "possible_positions = 0\n",
    "distinct_pp = []\n",
    "\n",
    "for ij, (idx, idy) in enumerate(visited_coordinates):\n",
    "    print(f'Finished {round(100 * ij/ len(visited_coordinates), 1)}%', end='\\r')\n",
    "    char = map[idx][idy]\n",
    "\n",
    "    if char != '.':\n",
    "        continue\n",
    "    else:\n",
    "        map_ = deepcopy(map)\n",
    "        map_[idx][idy] = '#'\n",
    "\n",
    "        guard_x = guard_position[0]\n",
    "        guard_y = guard_position[1]\n",
    "        direction_ = direction\n",
    "\n",
    "        visited_coordinates_ = [(guard_x, guard_y, direction_)]\n",
    "\n",
    "        try:\n",
    "            while True:\n",
    "                guard_x, guard_y, direction_ = move(guard_x, guard_y, direction_, map_)\n",
    "\n",
    "                if (guard_x, guard_y, direction_) not in visited_coordinates_:\n",
    "                    visited_coordinates_.append((guard_x, guard_y, direction_))\n",
    "                else:\n",
    "                    if (idx, idy) not in distinct_pp:\n",
    "                        distinct_pp.append((idx, idy))\n",
    "                        possible_positions += 1\n",
    "                    break\n",
    "\n",
    "        except IndexError:\n",
    "            continue\n",
    "\n",
    "print(possible_positions)\n",
    "print(possible_positions)\n"
   ]
  }
 ],
 "metadata": {
  "kernelspec": {
   "display_name": "venv_aoc",
   "language": "python",
   "name": "python3"
  },
  "language_info": {
   "codemirror_mode": {
    "name": "ipython",
    "version": 3
   },
   "file_extension": ".py",
   "mimetype": "text/x-python",
   "name": "python",
   "nbconvert_exporter": "python",
   "pygments_lexer": "ipython3",
   "version": "3.13.0"
  }
 },
 "nbformat": 4,
 "nbformat_minor": 2
}
