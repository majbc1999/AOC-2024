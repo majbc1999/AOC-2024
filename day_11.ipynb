{
 "cells": [
  {
   "cell_type": "code",
   "execution_count": 1,
   "metadata": {},
   "outputs": [],
   "source": [
    "file = 'data/11_input.txt'\n",
    "# file = 'data/11_test_input.txt'\n",
    "\n",
    "with open(file, 'r') as f:\n",
    "    data = f.read()\n",
    "\n",
    "data = data.split(' ')\n",
    "data = [int(x) for x in data]"
   ]
  },
  {
   "cell_type": "code",
   "execution_count": 2,
   "metadata": {},
   "outputs": [],
   "source": [
    "def blink(x_: int) -> list:\n",
    "    # number of digits\n",
    "    x = str(x_)\n",
    "    n = len(x)\n",
    "\n",
    "    if x_ == 0:\n",
    "        return [1]\n",
    "\n",
    "    if n % 2 == 0:\n",
    "        return [int(x[:n//2]), int(x[n//2:])]\n",
    "\n",
    "    else:\n",
    "        return [x_ * 2024]\n"
   ]
  },
  {
   "cell_type": "code",
   "execution_count": 3,
   "metadata": {},
   "outputs": [],
   "source": [
    "blink(10)\n",
    "\n",
    "def blink_all(data: list):\n",
    "    new_data = []\n",
    "\n",
    "    for i in data:\n",
    "        new_data += blink(i)\n",
    "\n",
    "    return new_data"
   ]
  },
  {
   "cell_type": "code",
   "execution_count": 4,
   "metadata": {},
   "outputs": [
    {
     "name": "stdout",
     "output_type": "stream",
     "text": [
      "186996 25\n"
     ]
    }
   ],
   "source": [
    "from copy import deepcopy\n",
    "\n",
    "data_ = deepcopy(data)\n",
    "\n",
    "for i in range(25):\n",
    "    data_ = blink_all(data_)\n",
    "    #print(data_)\n",
    "    print('Done: ', i + 1, end = '\\r')\n",
    "\n",
    "print(len(data_))"
   ]
  },
  {
   "cell_type": "code",
   "execution_count": 10,
   "metadata": {},
   "outputs": [],
   "source": [
    "# part 2\n",
    "\n",
    "from functools import cache\n",
    "\n",
    "@cache\n",
    "def blink_optimized(x: int, deep: int) -> int:\n",
    "    \n",
    "    if deep == 0:\n",
    "        return 1\n",
    "    \n",
    "    x_ = str(x)\n",
    "    n = len(x_)\n",
    "\n",
    "    if x == 0:\n",
    "        return blink_optimized(1, deep - 1)\n",
    "\n",
    "    if n % 2 == 0:\n",
    "        return blink_optimized(int(x_[:n//2]), deep - 1) + blink_optimized(int(x_[n//2:]), deep - 1)\n",
    "\n",
    "    else:\n",
    "        return blink_optimized(x * 2024, deep - 1)\n"
   ]
  },
  {
   "cell_type": "code",
   "execution_count": 14,
   "metadata": {},
   "outputs": [
    {
     "name": "stdout",
     "output_type": "stream",
     "text": [
      "221683913164898\n"
     ]
    }
   ],
   "source": [
    "from copy import deepcopy\n",
    "\n",
    "data_ = deepcopy(data)\n",
    "\n",
    "solution_2 = 0\n",
    "for x in data_:\n",
    "    solution_2 += blink_optimized(x, 75)\n",
    "\n",
    "print(solution_2)"
   ]
  }
 ],
 "metadata": {
  "kernelspec": {
   "display_name": "venv_aoc",
   "language": "python",
   "name": "python3"
  },
  "language_info": {
   "codemirror_mode": {
    "name": "ipython",
    "version": 3
   },
   "file_extension": ".py",
   "mimetype": "text/x-python",
   "name": "python",
   "nbconvert_exporter": "python",
   "pygments_lexer": "ipython3",
   "version": "3.13.0"
  }
 },
 "nbformat": 4,
 "nbformat_minor": 2
}
