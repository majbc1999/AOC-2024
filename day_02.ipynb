{
 "cells": [
  {
   "cell_type": "code",
   "execution_count": 9,
   "metadata": {},
   "outputs": [],
   "source": [
    "file = 'data/02_input.txt'\n",
    "\n",
    "reports = []\n",
    "\n",
    "with open(file, 'r') as f:\n",
    "    for line in f:\n",
    "        reports.append(line.strip().split(' '))"
   ]
  },
  {
   "cell_type": "code",
   "execution_count": 10,
   "metadata": {},
   "outputs": [],
   "source": [
    "def is_safe(report,\n",
    "            mode):\n",
    "    match mode:\n",
    "        case 'increasing':\n",
    "            for i in range(0, len(report) - 1):\n",
    "                if int(report[i]) - int(report[i + 1]) > 0 and \\\n",
    "                        abs(int(report[i]) - int(report[i + 1])) < 4:\n",
    "                    continue\n",
    "                else:\n",
    "                    return False\n",
    "        case 'decreasing':\n",
    "            for i in range(0, len(report) - 1):\n",
    "                if int(report[i]) - int(report[i + 1]) < 0 and \\\n",
    "                        abs(int(report[i]) - int(report[i + 1])) < 4:\n",
    "                    continue\n",
    "                else:\n",
    "                    return False\n",
    "                \n",
    "    return True"
   ]
  },
  {
   "cell_type": "code",
   "execution_count": 11,
   "metadata": {},
   "outputs": [
    {
     "name": "stdout",
     "output_type": "stream",
     "text": [
      "442\n"
     ]
    }
   ],
   "source": [
    "safe_reps = 0\n",
    "\n",
    "for report in reports:\n",
    "    if is_safe(report, 'increasing') or is_safe(report, 'decreasing'):\n",
    "        safe_reps += 1\n",
    "\n",
    "print(safe_reps)"
   ]
  },
  {
   "cell_type": "code",
   "execution_count": 12,
   "metadata": {},
   "outputs": [],
   "source": [
    "def return_unsafe_index(\n",
    "        report, mode):\n",
    "    match mode:\n",
    "        case 'increasing':\n",
    "            for i in range(0, len(report) - 1):\n",
    "                if int(report[i]) - int(report[i + 1]) > 0 and \\\n",
    "                        abs(int(report[i]) - int(report[i + 1])) < 4:\n",
    "                    continue\n",
    "                else:\n",
    "                    return i\n",
    "        case 'decreasing':\n",
    "            for i in range(0, len(report) - 1):\n",
    "                if int(report[i]) - int(report[i + 1]) < 0 and \\\n",
    "                        abs(int(report[i]) - int(report[i + 1])) < 4:\n",
    "                    continue\n",
    "                else:\n",
    "                    return i\n",
    "                \n",
    "    return None"
   ]
  },
  {
   "cell_type": "code",
   "execution_count": 13,
   "metadata": {},
   "outputs": [
    {
     "name": "stdout",
     "output_type": "stream",
     "text": [
      "493\n"
     ]
    }
   ],
   "source": [
    "safe_reps_with_replacement = 0\n",
    "\n",
    "for report in reports:\n",
    "    done = False\n",
    "    if is_safe(report, 'increasing') or is_safe(report, 'decreasing'):\n",
    "        safe_reps_with_replacement += 1\n",
    "        continue\n",
    "    else:\n",
    "        unsafe_inc = return_unsafe_index(report, 'increasing')\n",
    "        unsafe_dec = return_unsafe_index(report, 'decreasing')\n",
    "\n",
    "        if unsafe_inc != 0 and unsafe_inc != len(report) - 1:\n",
    "            unsafe_inc_options = [\n",
    "                report[:unsafe_inc] + report[unsafe_inc + 1:],\n",
    "                report[:unsafe_inc + 1] + report[unsafe_inc + 2:]\n",
    "            ]\n",
    "        elif unsafe_inc == 0:\n",
    "            unsafe_inc_options = [\n",
    "                [report[0]] + report[2:],\n",
    "                report[1:]\n",
    "            ]\n",
    "        elif unsafe_inc == len(report) - 1:\n",
    "            unsafe_inc_options = [\n",
    "                report[:len(report) - 2] + [report[-1]],\n",
    "                report[:len(report) - 1]\n",
    "            ]\n",
    "\n",
    "        for option in unsafe_inc_options:\n",
    "            if is_safe(option, 'increasing') or is_safe(option, 'decreasing'):\n",
    "                safe_reps_with_replacement += 1\n",
    "                done = True\n",
    "                break\n",
    "        \n",
    "        if done:\n",
    "            continue\n",
    "\n",
    "        if unsafe_dec != 0 and unsafe_dec != len(report) - 1:\n",
    "            unsafe_dec_options = [\n",
    "                report[:unsafe_dec] + report[unsafe_dec + 1:],\n",
    "                report[:unsafe_dec + 1] + report[unsafe_dec + 2:]\n",
    "            ]\n",
    "        elif unsafe_dec == 0:\n",
    "            unsafe_dec_options = [\n",
    "                [report[0]] + report[2:],\n",
    "                report[1:]\n",
    "            ]\n",
    "        elif unsafe_dec == len(report) - 1:\n",
    "            unsafe_dec_options = [\n",
    "                report[:len(report) - 2] + [report[-1]],\n",
    "                report[:len(report) - 1]\n",
    "            ]\n",
    "        \n",
    "        for option in unsafe_dec_options:\n",
    "            if is_safe(option, 'increasing') or is_safe(option, 'decreasing'):\n",
    "                safe_reps_with_replacement += 1\n",
    "                break\n",
    "\n",
    "print(safe_reps_with_replacement)"
   ]
  }
 ],
 "metadata": {
  "kernelspec": {
   "display_name": "venv_aoc",
   "language": "python",
   "name": "python3"
  },
  "language_info": {
   "codemirror_mode": {
    "name": "ipython",
    "version": 3
   },
   "file_extension": ".py",
   "mimetype": "text/x-python",
   "name": "python",
   "nbconvert_exporter": "python",
   "pygments_lexer": "ipython3",
   "version": "3.13.0"
  }
 },
 "nbformat": 4,
 "nbformat_minor": 2
}
