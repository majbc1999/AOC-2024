{
 "cells": [
  {
   "cell_type": "code",
   "execution_count": 24,
   "metadata": {},
   "outputs": [],
   "source": [
    "# file1 = 'data/05_test_input_rules.txt'\n",
    "# file2 = 'data/05_test_input_ptp.txt'\n",
    "\n",
    "file1 = 'data/05_input_rules.txt'\n",
    "file2 = 'data/05_input_ptp.txt'\n",
    "\n",
    "with open(file1, 'r') as inp:\n",
    "    data_rules = inp.read().splitlines()\n",
    "\n",
    "with open(file2, 'r') as inp:\n",
    "    data_ptp = inp.read().splitlines()\n",
    "\n",
    "data_ptp = [x.split(',') for x in data_ptp]\n",
    "data_ptp = [[int(y) for y in x] for x in data_ptp]\n",
    "data_ptp\n",
    "\n",
    "data_rules = [(int(x.split('|')[0]), int(x.split('|')[1])) for x in data_rules]"
   ]
  },
  {
   "cell_type": "code",
   "execution_count": 25,
   "metadata": {},
   "outputs": [],
   "source": [
    "from typing import List, Tuple\n",
    "\n",
    "def is_before(rule: Tuple[int, int], lst: List[int]) -> bool:\n",
    "    \"\"\"Find if a is before b in given list\"\"\"\n",
    "    try:\n",
    "        return lst.index(rule[0]) < lst.index(rule[1])\n",
    "    except ValueError:\n",
    "        return True"
   ]
  },
  {
   "cell_type": "code",
   "execution_count": 26,
   "metadata": {},
   "outputs": [
    {
     "data": {
      "text/plain": [
       "7074"
      ]
     },
     "execution_count": 26,
     "metadata": {},
     "output_type": "execute_result"
    }
   ],
   "source": [
    "result = 0\n",
    "\n",
    "for i in data_ptp:\n",
    "    good = True\n",
    "\n",
    "    for rule in data_rules:\n",
    "        if not is_before(rule, i):\n",
    "            good = False\n",
    "            break\n",
    "\n",
    "    if good:\n",
    "        result += i[len(i)//2]\n",
    "\n",
    "result"
   ]
  },
  {
   "cell_type": "code",
   "execution_count": 27,
   "metadata": {},
   "outputs": [],
   "source": [
    "def swap(lst: List[int], a: int, b: int) -> List[int]:\n",
    "    \"\"\"Swap elements a and b in list\"\"\"\n",
    "\n",
    "    id_a = lst.index(a)\n",
    "    id_b = lst.index(b)\n",
    "\n",
    "    lst[id_a] = b\n",
    "    lst[id_b] = a\n",
    "\n",
    "    return lst"
   ]
  },
  {
   "cell_type": "code",
   "execution_count": 28,
   "metadata": {},
   "outputs": [
    {
     "data": {
      "text/plain": [
       "4828"
      ]
     },
     "execution_count": 28,
     "metadata": {},
     "output_type": "execute_result"
    }
   ],
   "source": [
    "from copy import deepcopy\n",
    "\n",
    "result = 0\n",
    "\n",
    "for i in data_ptp:\n",
    "    good = False\n",
    "    edited = False\n",
    "    new_list = deepcopy(i)\n",
    "\n",
    "    while not good:\n",
    "        good = True\n",
    "\n",
    "        for rule in data_rules:\n",
    "            if not is_before(rule, new_list):\n",
    "                good = False\n",
    "                new_list = swap(new_list, rule[0], rule[1])\n",
    "                edited = True\n",
    "                break\n",
    "\n",
    "    if edited:\n",
    "        result += new_list[len(new_list)//2]\n",
    "\n",
    "result"
   ]
  },
  {
   "cell_type": "code",
   "execution_count": null,
   "metadata": {},
   "outputs": [],
   "source": []
  }
 ],
 "metadata": {
  "kernelspec": {
   "display_name": "venv_aoc",
   "language": "python",
   "name": "python3"
  },
  "language_info": {
   "codemirror_mode": {
    "name": "ipython",
    "version": 3
   },
   "file_extension": ".py",
   "mimetype": "text/x-python",
   "name": "python",
   "nbconvert_exporter": "python",
   "pygments_lexer": "ipython3",
   "version": "3.13.0"
  }
 },
 "nbformat": 4,
 "nbformat_minor": 2
}
