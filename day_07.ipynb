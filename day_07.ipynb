{
 "cells": [
  {
   "cell_type": "code",
   "execution_count": 48,
   "metadata": {},
   "outputs": [],
   "source": [
    "file = 'data/07_input.txt'\n",
    "# file = 'data/07_test_input.txt'\n",
    "\n",
    "with open(file, 'r') as inp:\n",
    "    data = inp.read().splitlines()\n"
   ]
  },
  {
   "cell_type": "code",
   "execution_count": 49,
   "metadata": {},
   "outputs": [],
   "source": [
    "data\n",
    "\n",
    "results = []\n",
    "numbers = []\n",
    "\n",
    "for line in data:\n",
    "    left, right = line.split(': ')\n",
    "    numbers_for_line = right.split(' ')\n",
    "\n",
    "    left = int(left)\n",
    "    numbers_for_line = [int(x) for x in numbers_for_line]\n",
    "\n",
    "    numbers.append(numbers_for_line)\n",
    "    results.append(left)"
   ]
  },
  {
   "cell_type": "code",
   "execution_count": 50,
   "metadata": {},
   "outputs": [],
   "source": [
    "def solve_recursive(numbers, result):\n",
    "\n",
    "    plus = numbers[0] + numbers[1]\n",
    "    mul = numbers[0] * numbers[1]\n",
    "\n",
    "    if len(numbers) == 2:\n",
    "        if plus == result or mul == result:\n",
    "            return True\n",
    "        else:\n",
    "            return False\n",
    "\n",
    "    if plus <= result and mul <= result:\n",
    "        return solve_recursive([plus] + numbers[2:], result) or solve_recursive([mul] + numbers[2:], result)\n",
    "\n",
    "    if plus <= result:\n",
    "        return solve_recursive([plus] + numbers[2:], result)\n",
    "\n",
    "    if mul <= result:\n",
    "        return solve_recursive([mul] + numbers[2:], result)\n",
    "    \n",
    "    return False    "
   ]
  },
  {
   "cell_type": "code",
   "execution_count": 51,
   "metadata": {},
   "outputs": [
    {
     "data": {
      "text/plain": [
       "1430271835320"
      ]
     },
     "execution_count": 51,
     "metadata": {},
     "output_type": "execute_result"
    }
   ],
   "source": [
    "total_calibration = 0\n",
    "\n",
    "for id, (test_value, n) in enumerate(zip(results, numbers)):\n",
    "\n",
    "    if solve_recursive(n, test_value):\n",
    "        total_calibration += test_value\n",
    "\n",
    "total_calibration"
   ]
  },
  {
   "cell_type": "code",
   "execution_count": 52,
   "metadata": {},
   "outputs": [],
   "source": [
    "def solve_recursive_(numbers, result):\n",
    "\n",
    "    plus = numbers[0] + numbers[1]\n",
    "    mul = numbers[0] * numbers[1]\n",
    "    concat_ = int(str(numbers[0]) + str(numbers[1]))\n",
    "\n",
    "    if len(numbers) == 2:\n",
    "        if plus == result or mul == result or concat_ == result:\n",
    "            return True\n",
    "        else:\n",
    "            return False\n",
    "\n",
    "    if plus <= result and mul <= result and concat_ <= result:\n",
    "        return solve_recursive_([plus] + numbers[2:], result) \\\n",
    "            or solve_recursive_([mul] + numbers[2:], result) \\\n",
    "            or solve_recursive_([concat_] + numbers[2:], result)\n",
    "\n",
    "\n",
    "    if plus <= result and concat_ <= result:\n",
    "        return solve_recursive_([plus] + numbers[2:], result) \\\n",
    "            or solve_recursive_([concat_] + numbers[2:], result)\n",
    "\n",
    "    if mul <= result and concat_ <= result:\n",
    "        return solve_recursive_([mul] + numbers[2:], result) \\\n",
    "            or solve_recursive_([concat_] + numbers[2:], result)\n",
    "\n",
    "    if mul <= result and plus <= result:\n",
    "        return solve_recursive_([mul] + numbers[2:], result) \\\n",
    "            or solve_recursive_([plus] + numbers[2:], result)\n",
    "    \n",
    "    if plus <= result:\n",
    "        return solve_recursive_([plus] + numbers[2:], result)\n",
    "    \n",
    "    if mul <= result:\n",
    "        return solve_recursive_([mul] + numbers[2:], result)\n",
    "    \n",
    "    if concat_ <= result:\n",
    "        return solve_recursive_([concat_] + numbers[2:], result)\n",
    "\n",
    "    return False    "
   ]
  },
  {
   "cell_type": "code",
   "execution_count": 53,
   "metadata": {},
   "outputs": [
    {
     "name": "stdout",
     "output_type": "stream",
     "text": [
      "Done: 850/850\r"
     ]
    },
    {
     "data": {
      "text/plain": [
       "456565678667482"
      ]
     },
     "execution_count": 53,
     "metadata": {},
     "output_type": "execute_result"
    }
   ],
   "source": [
    "total_calibration = 0\n",
    "\n",
    "for id, (test_value, n) in enumerate(zip(results, numbers)):\n",
    "    if solve_recursive_(n, test_value):\n",
    "        total_calibration += test_value\n",
    "    print(f'Done: {id + 1}/{len(results)}', end='\\r')\n",
    "\n",
    "total_calibration"
   ]
  }
 ],
 "metadata": {
  "kernelspec": {
   "display_name": "venv_aoc",
   "language": "python",
   "name": "python3"
  },
  "language_info": {
   "codemirror_mode": {
    "name": "ipython",
    "version": 3
   },
   "file_extension": ".py",
   "mimetype": "text/x-python",
   "name": "python",
   "nbconvert_exporter": "python",
   "pygments_lexer": "ipython3",
   "version": "3.13.0"
  }
 },
 "nbformat": 4,
 "nbformat_minor": 2
}
