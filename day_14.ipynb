{
 "cells": [
  {
   "cell_type": "code",
   "execution_count": 1,
   "metadata": {},
   "outputs": [],
   "source": [
    "import re\n",
    "\n",
    "file = 'data/14_input.txt'\n",
    "map_length = 101\n",
    "map_height = 103\n",
    "\n",
    "\n",
    "# file = 'data/14_test_input.txt'\n",
    "# map_length = 11\n",
    "# map_height = 7\n",
    "\n",
    "with open(file, 'r') as f:\n",
    "    data = f.read().splitlines()\n",
    "\n",
    "robots_original = {}\n",
    "for id, robot in enumerate(data):\n",
    "    # 'p=0,4 v=3,-3',\n",
    "    # extract coordinates of p and v\n",
    "    p = list(map(int, re.findall(r'-?\\d+', robot)))\n",
    "    robots_original[id] = ((p[0], p[1]), (p[2], p[3]))"
   ]
  },
  {
   "cell_type": "code",
   "execution_count": 2,
   "metadata": {},
   "outputs": [],
   "source": [
    "def simultate_robot_movement(position, velocity):\n",
    "    \"\"\"\n",
    "    Simuate the movement of a robot and return new position\n",
    "    \"\"\"\n",
    "\n",
    "    x_move = velocity[0] + position[0]\n",
    "    y_move = velocity[1] + position[1]\n",
    "\n",
    "    if x_move < 0:\n",
    "        x_move = map_length + x_move\n",
    "    if y_move < 0:\n",
    "        y_move = map_height + y_move\n",
    "\n",
    "    return (x_move % map_length, y_move % map_height)"
   ]
  },
  {
   "cell_type": "code",
   "execution_count": 3,
   "metadata": {},
   "outputs": [],
   "source": [
    "from copy import deepcopy\n",
    "\n",
    "robots = deepcopy(robots_original)\n",
    "\n",
    "for i in range(100):\n",
    "    for id, pos_vel in robots.items():\n",
    "        robots[id] = simultate_robot_movement(pos_vel[0], pos_vel[1]), pos_vel[1]"
   ]
  },
  {
   "cell_type": "code",
   "execution_count": 4,
   "metadata": {},
   "outputs": [],
   "source": [
    "def quadrant(map_length, map_height, position):\n",
    "    \"\"\"\n",
    "    Return the quadrant of the map for a given position\n",
    "    \"\"\"\n",
    "\n",
    "    map_length = map_length - 1\n",
    "    map_height = map_height - 1\n",
    "\n",
    "    x = position[0]\n",
    "    y = position[1]\n",
    "\n",
    "    if x < map_length/2 and y < map_height/2:\n",
    "        return 1\n",
    "    elif x > map_length/2 and y < map_height/2:\n",
    "        return 2\n",
    "    elif x > map_length/2 and y > map_height/2:\n",
    "        return 3\n",
    "    elif x < map_length/2 and y > map_height/2:\n",
    "        return 4"
   ]
  },
  {
   "cell_type": "code",
   "execution_count": 5,
   "metadata": {},
   "outputs": [
    {
     "name": "stdout",
     "output_type": "stream",
     "text": [
      "{4: 99, 2: 136, 1: 139, 3: 117, None: 9}\n"
     ]
    }
   ],
   "source": [
    "quadrants = {}\n",
    "\n",
    "for id, pos_vel in robots.items():\n",
    "    pos = pos_vel[0]\n",
    "    quad = quadrant(map_length, map_height, pos)\n",
    "    if quad in quadrants:\n",
    "        quadrants[quad] += 1\n",
    "    else:\n",
    "        quadrants[quad] = 1\n",
    "\n",
    "print(quadrants)"
   ]
  },
  {
   "cell_type": "code",
   "execution_count": 6,
   "metadata": {},
   "outputs": [
    {
     "name": "stdout",
     "output_type": "stream",
     "text": [
      "218965032\n"
     ]
    }
   ],
   "source": [
    "safety_factor = 1\n",
    "\n",
    "for quad, count in quadrants.items():\n",
    "    if quad is not None:\n",
    "        safety_factor *= count\n",
    "\n",
    "print(safety_factor)"
   ]
  },
  {
   "cell_type": "code",
   "execution_count": 7,
   "metadata": {},
   "outputs": [
    {
     "ename": "TypeError",
     "evalue": "generate_image() missing 1 required positional argument: 'output_file'",
     "output_type": "error",
     "traceback": [
      "\u001b[1;31m---------------------------------------------------------------------------\u001b[0m",
      "\u001b[1;31mTypeError\u001b[0m                                 Traceback (most recent call last)",
      "Cell \u001b[1;32mIn[7], line 14\u001b[0m\n\u001b[0;32m     11\u001b[0m         image[pos[\u001b[38;5;241m1\u001b[39m], pos[\u001b[38;5;241m0\u001b[39m]] \u001b[38;5;241m=\u001b[39m [\u001b[38;5;241m255\u001b[39m, \u001b[38;5;241m255\u001b[39m, \u001b[38;5;241m255\u001b[39m]\n\u001b[0;32m     12\u001b[0m     imageio\u001b[38;5;241m.\u001b[39mimwrite(output_file, image)\n\u001b[1;32m---> 14\u001b[0m \u001b[43mgenerate_image\u001b[49m\u001b[43m(\u001b[49m\u001b[43mrobots\u001b[49m\u001b[43m)\u001b[49m\n",
      "\u001b[1;31mTypeError\u001b[0m: generate_image() missing 1 required positional argument: 'output_file'"
     ]
    }
   ],
   "source": [
    "import numpy, imageio\n",
    "\n",
    "def generate_image(robots, output_file):\n",
    "    \"\"\"\n",
    "    Generate an image of the robots\n",
    "    \"\"\"\n",
    "    X,Y = map_length, map_height\n",
    "    image = numpy.zeros((Y, X, 3), dtype=numpy.uint8)\n",
    "    for _, pos_vel in robots.items():\n",
    "        pos = pos_vel[0]\n",
    "        image[pos[1], pos[0]] = [255, 255, 255]\n",
    "    imageio.imwrite(output_file, image)\n",
    "\n",
    "generate_image(robots)"
   ]
  },
  {
   "cell_type": "code",
   "execution_count": 12,
   "metadata": {},
   "outputs": [],
   "source": [
    "def at_least_n_together_in_line(n, robots):\n",
    "    \"\"\"\n",
    "    Check if at least `n` robots are together in a line\n",
    "    \"\"\"\n",
    "\n",
    "    coords = [pos for pos, _ in robots.values()]\n",
    "\n",
    "    for x, y in coords:\n",
    "        count = 0\n",
    "        for i in range(n):\n",
    "            if (x+i, y) in coords:\n",
    "                count += 1\n",
    "            else:\n",
    "                break\n",
    "\n",
    "        if count >= n:\n",
    "            return True\n",
    "\n",
    "    return False"
   ]
  },
  {
   "cell_type": "code",
   "execution_count": 14,
   "metadata": {},
   "outputs": [
    {
     "name": "stdout",
     "output_type": "stream",
     "text": [
      "Checked 9999\r"
     ]
    }
   ],
   "source": [
    "from copy import deepcopy\n",
    "\n",
    "robots = deepcopy(robots_original)\n",
    "\n",
    "for i in range(10000):\n",
    "    for id, pos_vel in robots.items():\n",
    "        robots[id] = simultate_robot_movement(pos_vel[0], pos_vel[1]), pos_vel[1]\n",
    "\n",
    "    if at_least_n_together_in_line(7, robots):\n",
    "        generate_image(robots, f'day_14_images/output{i+1}.png')\n",
    "\n",
    "    print(f'Checked {i}', end='\\r')"
   ]
  }
 ],
 "metadata": {
  "kernelspec": {
   "display_name": "venv_aoc",
   "language": "python",
   "name": "python3"
  },
  "language_info": {
   "codemirror_mode": {
    "name": "ipython",
    "version": 3
   },
   "file_extension": ".py",
   "mimetype": "text/x-python",
   "name": "python",
   "nbconvert_exporter": "python",
   "pygments_lexer": "ipython3",
   "version": "3.13.0"
  }
 },
 "nbformat": 4,
 "nbformat_minor": 2
}
