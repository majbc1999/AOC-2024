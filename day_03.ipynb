{
 "cells": [
  {
   "cell_type": "code",
   "execution_count": null,
   "metadata": {},
   "outputs": [],
   "source": [
    "file = 'data/03_input.txt'\n",
    "#file = 'data/03_test_input.txt'\n",
    "\n",
    "with open(file, 'r') as inp:\n",
    "    data = inp.read().splitlines()\n",
    "\n",
    "data = ''.join(data)"
   ]
  },
  {
   "cell_type": "code",
   "execution_count": 3,
   "metadata": {},
   "outputs": [
    {
     "data": {
      "text/plain": [
       "[('2', '4'), ('5', '5'), ('11', '8')]"
      ]
     },
     "execution_count": 3,
     "metadata": {},
     "output_type": "execute_result"
    }
   ],
   "source": [
    "import re\n",
    "\n",
    "mul_occ = re.findall(r'mul\\(([0-9]*?),([0-9]*?)\\)', data)\n",
    "\n",
    "mul_occ[:3]"
   ]
  },
  {
   "cell_type": "code",
   "execution_count": 4,
   "metadata": {},
   "outputs": [
    {
     "data": {
      "text/plain": [
       "161"
      ]
     },
     "execution_count": 4,
     "metadata": {},
     "output_type": "execute_result"
    }
   ],
   "source": [
    "score = 0\n",
    "\n",
    "for occ in mul_occ:\n",
    "    score += int(occ[0]) * int(occ[1])\n",
    "\n",
    "score"
   ]
  },
  {
   "cell_type": "code",
   "execution_count": 8,
   "metadata": {},
   "outputs": [
    {
     "data": {
      "text/plain": [
       "[(0, 20), (59, 72)]"
      ]
     },
     "execution_count": 8,
     "metadata": {},
     "output_type": "execute_result"
    }
   ],
   "source": [
    "do_slices = []\n",
    "\n",
    "start = 0\n",
    "end = None\n",
    "\n",
    "doing = True\n",
    "for id, char in enumerate(data):\n",
    "    if data[id] == 'd' and data[id+1] == 'o' and data[id+2] == '(' \\\n",
    "            and data[id+3] == ')' and not doing:\n",
    "        start = id\n",
    "        doing = True\n",
    "    elif data[id] == 'd' and data[id+1] == 'o' and data[id+2] == 'n' \\\n",
    "            and data[id+3] == '\\'' and data[id+4] == 't' \\\n",
    "            and data[id+5] == '(' and data[id+6] == ')'  and doing:\n",
    "        end = id\n",
    "        doing = False\n",
    "\n",
    "        do_slices.append((start, end))\n",
    "\n",
    "if doing:\n",
    "    do_slices.append((start, len(data) - 1))\n",
    "\n",
    "do_slices"
   ]
  },
  {
   "cell_type": "code",
   "execution_count": 10,
   "metadata": {},
   "outputs": [
    {
     "data": {
      "text/plain": [
       "[('2', '4'), ('8', '5')]"
      ]
     },
     "execution_count": 10,
     "metadata": {},
     "output_type": "execute_result"
    }
   ],
   "source": [
    "all_muls = []\n",
    "\n",
    "for slice in do_slices:\n",
    "    data_ = data[slice[0]:slice[1]]\n",
    "\n",
    "    mul_occ = re.findall(r'mul\\(([0-9]*?),([0-9]*?)\\)', data_)\n",
    "\n",
    "    all_muls += mul_occ\n",
    "\n",
    "all_muls"
   ]
  },
  {
   "cell_type": "code",
   "execution_count": null,
   "metadata": {},
   "outputs": [],
   "source": [
    "score = 0\n",
    "\n",
    "for occ in all_muls:\n",
    "    score += int(occ[0]) * int(occ[1])\n",
    "\n",
    "score"
   ]
  }
 ],
 "metadata": {
  "kernelspec": {
   "display_name": "venv_aoc",
   "language": "python",
   "name": "python3"
  },
  "language_info": {
   "codemirror_mode": {
    "name": "ipython",
    "version": 3
   },
   "file_extension": ".py",
   "mimetype": "text/x-python",
   "name": "python",
   "nbconvert_exporter": "python",
   "pygments_lexer": "ipython3",
   "version": "3.13.0"
  }
 },
 "nbformat": 4,
 "nbformat_minor": 2
}
