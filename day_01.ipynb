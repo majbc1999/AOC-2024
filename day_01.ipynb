{
 "cells": [
  {
   "cell_type": "markdown",
   "metadata": {},
   "source": [
    "# Part I"
   ]
  },
  {
   "cell_type": "code",
   "execution_count": 4,
   "metadata": {},
   "outputs": [],
   "source": [
    "file = 'data/01_input.txt'\n",
    "\n",
    "list1, list2 = [], []\n",
    "\n",
    "with open(file, 'r') as f:\n",
    "    for line in f:\n",
    "        el1, el2 = line.split('   ')\n",
    "        list1.append(int(el1))\n",
    "        list2.append(int(el2))"
   ]
  },
  {
   "cell_type": "code",
   "execution_count": 5,
   "metadata": {},
   "outputs": [
    {
     "name": "stdout",
     "output_type": "stream",
     "text": [
      "2192892\n"
     ]
    }
   ],
   "source": [
    "list1 = sorted(list1)\n",
    "list2 = sorted(list2)\n",
    "\n",
    "sum_ = 0\n",
    "for i, j in zip(list1, list2):\n",
    "    sum_ += abs(i-j)\n",
    "\n",
    "print(sum_)"
   ]
  },
  {
   "cell_type": "markdown",
   "metadata": {},
   "source": [
    "# Part II"
   ]
  },
  {
   "cell_type": "code",
   "execution_count": 8,
   "metadata": {},
   "outputs": [
    {
     "name": "stdout",
     "output_type": "stream",
     "text": [
      "22962826\n"
     ]
    }
   ],
   "source": [
    "from collections import Counter\n",
    "\n",
    "sum_ = 0\n",
    "repetitions = Counter(list2)\n",
    "\n",
    "for i in list1:\n",
    "    reps_i = repetitions.get(i, 0)\n",
    "\n",
    "    sum_ += i * reps_i\n",
    "\n",
    "print(sum_)"
   ]
  }
 ],
 "metadata": {
  "kernelspec": {
   "display_name": "venv_aoc",
   "language": "python",
   "name": "python3"
  },
  "language_info": {
   "codemirror_mode": {
    "name": "ipython",
    "version": 3
   },
   "file_extension": ".py",
   "mimetype": "text/x-python",
   "name": "python",
   "nbconvert_exporter": "python",
   "pygments_lexer": "ipython3",
   "version": "3.13.0"
  }
 },
 "nbformat": 4,
 "nbformat_minor": 2
}
